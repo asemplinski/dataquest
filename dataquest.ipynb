{
 "cells": [
  {
   "cell_type": "code",
   "execution_count": 1,
   "metadata": {
    "collapsed": false
   },
   "outputs": [],
   "source": [
    "import csv\n",
    "import psycopg2\n",
    "\n",
    "\n"
   ]
  },
  {
   "cell_type": "code",
   "execution_count": 12,
   "metadata": {
    "collapsed": false
   },
   "outputs": [],
   "source": [
    "\n",
    "conn = psycopg2.connect(\"dbname=dq user=dq password=dq\")\n",
    "\n",
    "cur=conn.cursor()\n",
    "\n",
    "with open('user_accounts.csv','r') as f:\n",
    "    count=0\n",
    "    reader = csv.reader(f)\n",
    "    for line in reader:\n",
    "        if count ==0:\n",
    "            count += 1\n",
    "            continue\n",
    "        else:\n",
    "            cur.execute(\"INSERT INTO users VALUES (%s, %s, %s, %s)\",(line[0], line[1],line[2], line[3]))\n",
    "            \n",
    "conn.commit()\n",
    "\n",
    "cur.execute(\"SELECT * FROM users\")\n",
    "users=cur.fetchall()\n",
    "conn.close()"
   ]
  },
  {
   "cell_type": "raw",
   "metadata": {
    "collapsed": false
   },
   "source": []
  },
  {
   "cell_type": "code",
   "execution_count": 2,
   "metadata": {
    "collapsed": false
   },
   "outputs": [],
   "source": [
    "\n",
    "with open('ign.csv', 'r') as f:\n",
    "    next(f)\n",
    "    reader = csv.reader(f)\n",
    "    unique_words_in_score_phrase = set([\n",
    "        row[1] for row in reader])\n",
    "max_score = max(unique_words_in_score_phrase)    \n"
   ]
  },
  {
   "cell_type": "code",
   "execution_count": 3,
   "metadata": {
    "collapsed": false
   },
   "outputs": [
    {
     "name": "stdout",
     "output_type": "stream",
     "text": [
      "Unbearable\n"
     ]
    }
   ],
   "source": [
    "print(max_score)"
   ]
  },
  {
   "cell_type": "code",
   "execution_count": 4,
   "metadata": {
    "collapsed": false
   },
   "outputs": [
    {
     "name": "stdout",
     "output_type": "stream",
     "text": [
      "{'Okay', 'Mediocre', 'Disaster', 'Masterpiece', 'Amazing', 'Unbearable', 'Good', 'Bad', 'Great', 'Painful', 'Awful'}\n"
     ]
    }
   ],
   "source": [
    "print(unique_words_in_score_phrase)"
   ]
  },
  {
   "cell_type": "code",
   "execution_count": 7,
   "metadata": {
    "collapsed": false
   },
   "outputs": [
    {
     "data": {
      "text/plain": [
       "'Masterpiece'"
      ]
     },
     "execution_count": 7,
     "metadata": {},
     "output_type": "execute_result"
    }
   ],
   "source": [
    "max(unique_words_in_score_phrase, key=len)"
   ]
  },
  {
   "cell_type": "code",
   "execution_count": null,
   "metadata": {
    "collapsed": true
   },
   "outputs": [],
   "source": []
  },
  {
   "cell_type": "code",
   "execution_count": 10,
   "metadata": {
    "collapsed": true
   },
   "outputs": [],
   "source": [
    "from datetime import date\n",
    "\n",
    "row = ['5249979066121302517', 'Amazing', 'LittleBigPlanet PS Vita', '/games/littlebigplanet-vita/vita-98907', 'PlayStation Vita', '9.0', 'Platformer', 'Y', '2012', '9', '12']\n",
    "# date(2012, 9, 12)\n",
    "updated_row = row[:8]\n"
   ]
  },
  {
   "cell_type": "code",
   "execution_count": 11,
   "metadata": {
    "collapsed": false
   },
   "outputs": [
    {
     "name": "stdout",
     "output_type": "stream",
     "text": [
      "['5249979066121302517', 'Amazing', 'LittleBigPlanet PS Vita', '/games/littlebigplanet-vita/vita-98907', 'PlayStation Vita', '9.0', 'Platformer', 'Y']\n"
     ]
    }
   ],
   "source": [
    "print(updated_row)"
   ]
  },
  {
   "cell_type": "code",
   "execution_count": null,
   "metadata": {
    "collapsed": true
   },
   "outputs": [],
   "source": [
    "from datetime import date\n",
    "\n",
    "row = ['5249979066121302517', 'Amazing', 'LittleBigPlanet PS Vita', '/games/littlebigplanet-vita/vita-98907', 'PlayStation Vita', '9.0', 'Platformer', 'Y', '2012', '9', '12']\n",
    "# date(2012, 9, 12)\n",
    "updated_row = row[:8]\n",
    "updated_row.append(date(int(row[8]), int(row[9]), int(row[10])))\n",
    "\n",
    "cur.execute('INSERT INTO ign_reviews VALUES (%s, %s, %s, %s, %s, %s, %s, %s, %s, %s)', updated_row)\n",
    "conn.commit()"
   ]
  },
  {
   "cell_type": "code",
   "execution_count": 34,
   "metadata": {
    "collapsed": false
   },
   "outputs": [],
   "source": [
    "with open('ign.csv', 'r') as f:\n",
    "    next(f)\n",
    "    reader = list(csv.reader(f))\n",
    "    for row in reader:\n",
    "        updated_reader = row[:8]\n",
    "        updated_reader.append(date(int(row[8]), int(row[9]), int(row[10])))\n",
    "        \n",
    "        "
   ]
  },
  {
   "cell_type": "raw",
   "metadata": {},
   "source": []
  },
  {
   "cell_type": "code",
   "execution_count": 32,
   "metadata": {
    "collapsed": false
   },
   "outputs": [
    {
     "name": "stdout",
     "output_type": "stream",
     "text": [
      "['5012610255156399104', 'Masterpiece', 'Inside', '/games/inside-playdead/pc-20055740', 'PC', '10.0', 'Adventure', 'Y', '2016', '6', '28']\n"
     ]
    }
   ],
   "source": [
    "print(item)"
   ]
  },
  {
   "cell_type": "code",
   "execution_count": 35,
   "metadata": {
    "collapsed": false
   },
   "outputs": [
    {
     "name": "stdout",
     "output_type": "stream",
     "text": [
      "['5012610255156399104', 'Masterpiece', 'Inside', '/games/inside-playdead/pc-20055740', 'PC', '10.0', 'Adventure', 'Y', datetime.date(2016, 6, 28)]\n"
     ]
    }
   ],
   "source": [
    "print(updated_reader)"
   ]
  },
  {
   "cell_type": "code",
   "execution_count": 36,
   "metadata": {
    "collapsed": false
   },
   "outputs": [
    {
     "data": {
      "text/plain": [
       "9"
      ]
     },
     "execution_count": 36,
     "metadata": {},
     "output_type": "execute_result"
    }
   ],
   "source": [
    "len(updated_reader)"
   ]
  },
  {
   "cell_type": "code",
   "execution_count": null,
   "metadata": {
    "collapsed": true
   },
   "outputs": [],
   "source": []
  }
 ],
 "metadata": {
  "kernelspec": {
   "display_name": "Python 3",
   "language": "python",
   "name": "python3"
  },
  "language_info": {
   "codemirror_mode": {
    "name": "ipython",
    "version": 3
   },
   "file_extension": ".py",
   "mimetype": "text/x-python",
   "name": "python",
   "nbconvert_exporter": "python",
   "pygments_lexer": "ipython3",
   "version": "3.6.0"
  }
 },
 "nbformat": 4,
 "nbformat_minor": 2
}

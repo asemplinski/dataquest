{
 "cells": [
  {
   "cell_type": "code",
   "execution_count": 1,
   "metadata": {
    "collapsed": true
   },
   "outputs": [],
   "source": [
    "import psycopg2\n",
    "from psycopg2.extensions import AsIs"
   ]
  },
  {
   "cell_type": "code",
   "execution_count": null,
   "metadata": {
    "collapsed": true
   },
   "outputs": [],
   "source": []
  },
  {
   "cell_type": "code",
   "execution_count": 2,
   "metadata": {
    "collapsed": false
   },
   "outputs": [
    {
     "name": "stdout",
     "output_type": "stream",
     "text": [
      "(Column(name='id', type_code=23, display_size=None, internal_size=4, precision=None, scale=None, null_ok=None), Column(name='email', type_code=25, display_size=None, internal_size=-1, precision=None, scale=None, null_ok=None), Column(name='name', type_code=25, display_size=None, internal_size=-1, precision=None, scale=None, null_ok=None), Column(name='address', type_code=25, display_size=None, internal_size=-1, precision=None, scale=None, null_ok=None))\n",
      " \n",
      "(Column(name='id', type_code=23, display_size=None, internal_size=4, precision=None, scale=None, null_ok=None), Column(name='email', type_code=25, display_size=None, internal_size=-1, precision=None, scale=None, null_ok=None), Column(name='name', type_code=25, display_size=None, internal_size=-1, precision=None, scale=None, null_ok=None), Column(name='address', type_code=25, display_size=None, internal_size=-1, precision=None, scale=None, null_ok=None))\n",
      " \n",
      "(Column(name='id', type_code=23, display_size=None, internal_size=4, precision=None, scale=None, null_ok=None), Column(name='email', type_code=25, display_size=None, internal_size=-1, precision=None, scale=None, null_ok=None), Column(name='name', type_code=25, display_size=None, internal_size=-1, precision=None, scale=None, null_ok=None), Column(name='address', type_code=25, display_size=None, internal_size=-1, precision=None, scale=None, null_ok=None))\n",
      " \n",
      "(Column(name='id', type_code=23, display_size=None, internal_size=4, precision=None, scale=None, null_ok=None), Column(name='email', type_code=25, display_size=None, internal_size=-1, precision=None, scale=None, null_ok=None), Column(name='name', type_code=25, display_size=None, internal_size=-1, precision=None, scale=None, null_ok=None), Column(name='address', type_code=25, display_size=None, internal_size=-1, precision=None, scale=None, null_ok=None))\n",
      " \n"
     ]
    }
   ],
   "source": [
    "conn = psycopg2.connect(dbname='dq', user='dq', password='dq')\n",
    "cur = conn.cursor()\n",
    "\n",
    "readable_description = {}\n",
    "\n",
    "cur.execute(\"SELECT table_name FROM information_schema.tables WHERE table_schema='public'\")\n",
    "for table in cur.fetchall(): \n",
    "    statement = cur.mogrify(\"SELECT * FROM %s LIMIT 0\", [AsIs(table[0])])\n",
    "    cur.execute(statement)\n",
    "    tableDescription = cur.description\n",
    "    for column in tableDescription:\n",
    "        \n",
    "        print(cur.description)\n",
    "        print(' ')"
   ]
  },
  {
   "cell_type": "code",
   "execution_count": 3,
   "metadata": {
    "collapsed": true
   },
   "outputs": [],
   "source": [
    "conn = psycopg2.connect(dbname='dq', user='dq', password='dq')\n",
    "cur = conn.cursor()\n",
    "\n",
    "cur.execute(\"SELECT  typname, oid FROM pg_catalog.pg_type\")\n",
    "type_mappings={}\n",
    "\n",
    "for pgType in cur.fetchall():\n",
    "    type_mappings[pgType[1]] = pgType[0]\n",
    "    "
   ]
  },
  {
   "cell_type": "code",
   "execution_count": 4,
   "metadata": {
    "collapsed": false
   },
   "outputs": [
    {
     "data": {
      "text/plain": [
       "'bool'"
      ]
     },
     "execution_count": 4,
     "metadata": {},
     "output_type": "execute_result"
    }
   ],
   "source": [
    "type_mappings[16]"
   ]
  },
  {
   "cell_type": "code",
   "execution_count": 30,
   "metadata": {
    "collapsed": false
   },
   "outputs": [
    {
     "name": "stdout",
     "output_type": "stream",
     "text": [
      "{'name': 'id', 'type': 'int4', 'internal_size': None}\n",
      "{'name': 'email', 'type': 'text', 'internal_size': None}\n",
      "{'name': 'name', 'type': 'text', 'internal_size': None}\n",
      "{'name': 'address', 'type': 'text', 'internal_size': None}\n"
     ]
    }
   ],
   "source": [
    "conn = psycopg2.connect(dbname='dq', user='dq', password='dq')\n",
    "cur = conn.cursor()\n",
    "\n",
    "readable_description = {}\n",
    "table_names=['users']\n",
    "sub_readable_description={}\n",
    "for table in table_names: \n",
    "    statement = cur.mogrify(\"SELECT * FROM %s LIMIT 0\", [AsIs(table)])\n",
    "    cur.execute(statement)\n",
    "    tableDescription = cur.description\n",
    "    columns=[]\n",
    "    for column in tableDescription:\n",
    "        singleColumn={}\n",
    "        singleColumn[\"name\"] = column[0]\n",
    "        singleColumn[\"type\"] = type_mappings[column[1]]\n",
    "        singleColumn[\"internal_size\"] = column[2]\n",
    "        columns.append(singleColumn)\n",
    "        print(singleColumn)\n",
    "    sub_readable_description['columns'] = columns\n",
    "    readable_description[table] = sub_readable_description\n"
   ]
  },
  {
   "cell_type": "markdown",
   "metadata": {
    "collapsed": false
   },
   "source": [
    "print(readable_description)"
   ]
  },
  {
   "cell_type": "raw",
   "metadata": {
    "collapsed": false
   },
   "source": []
  },
  {
   "cell_type": "code",
   "execution_count": 36,
   "metadata": {
    "collapsed": false
   },
   "outputs": [],
   "source": [
    "conn = psycopg2.connect(dbname='dq', user='dq', password='dq')\n",
    "cur = conn.cursor()\n",
    "\n",
    "for item in readable_description.keys():\n",
    "    statement = cur.mogrify(\"SELECT count(*) FROM %s\", [AsIs(item)])\n",
    "    cur.execute(statement)\n",
    "    total = cur.fetchall()\n",
    "    readable_description[item]['total'] = total[0][0]\n",
    "    \n",
    "    "
   ]
  },
  {
   "cell_type": "code",
   "execution_count": 28,
   "metadata": {
    "collapsed": false
   },
   "outputs": [],
   "source": [
    "readable_description['users']['total size'] = 6785"
   ]
  },
  {
   "cell_type": "code",
   "execution_count": 37,
   "metadata": {
    "collapsed": false
   },
   "outputs": [
    {
     "name": "stdout",
     "output_type": "stream",
     "text": [
      "{'users': {'columns': [{'name': 'id', 'type': 'int4', 'internal_size': None}, {'name': 'email', 'type': 'text', 'internal_size': None}, {'name': 'name', 'type': 'text', 'internal_size': None}, {'name': 'address', 'type': 'text', 'internal_size': None}], 'total': 6}}\n"
     ]
    }
   ],
   "source": [
    "print(readable_description)"
   ]
  },
  {
   "cell_type": "code",
   "execution_count": null,
   "metadata": {
    "collapsed": true
   },
   "outputs": [],
   "source": []
  },
  {
   "cell_type": "code",
   "execution_count": 39,
   "metadata": {
    "collapsed": false
   },
   "outputs": [],
   "source": [
    "conn = psycopg2.connect(dbname='dq', user='dq', password='dq')\n",
    "cur = conn.cursor()\n",
    "\n",
    "for item in readable_description.keys():\n",
    "    statement = cur.mogrify(\"SELECT * FROM %s LIMIT 100\", [AsIs(item)])\n",
    "    cur.execute(statement)\n",
    "    sample_rows = cur.fetchall()\n",
    "    readable_description[item]['sample_rows'] = sample_rows\n",
    "\n",
    "    "
   ]
  },
  {
   "cell_type": "code",
   "execution_count": 40,
   "metadata": {
    "collapsed": false
   },
   "outputs": [
    {
     "name": "stdout",
     "output_type": "stream",
     "text": [
      "{'users': {'columns': [{'name': 'id', 'type': 'int4', 'internal_size': None}, {'name': 'email', 'type': 'text', 'internal_size': None}, {'name': 'name', 'type': 'text', 'internal_size': None}, {'name': 'address', 'type': 'text', 'internal_size': None}], 'total': 6, 'sample_rows': [(0, 'Alex', 'fhaetheth', 'wethwth'), (1, 'Ted', 'ethethwh', 'ethwteh'), (2, 'Frank', 'wethweth', 'wtrhwth'), (3, 'Paula', 'ethwthwrt', 'wtrhwth'), (4, 'Hunter', 'rthwrthwt', 'wrthwth'), (5, 'Oin', 'trhwtehweth', 'wethteh')]}}\n"
     ]
    }
   ],
   "source": [
    "print(readable_description)"
   ]
  },
  {
   "cell_type": "code",
   "execution_count": null,
   "metadata": {
    "collapsed": true
   },
   "outputs": [],
   "source": []
  },
  {
   "cell_type": "code",
   "execution_count": null,
   "metadata": {
    "collapsed": true
   },
   "outputs": [],
   "source": []
  },
  {
   "cell_type": "code",
   "execution_count": null,
   "metadata": {
    "collapsed": true
   },
   "outputs": [],
   "source": []
  },
  {
   "cell_type": "code",
   "execution_count": null,
   "metadata": {
    "collapsed": true
   },
   "outputs": [],
   "source": []
  },
  {
   "cell_type": "code",
   "execution_count": null,
   "metadata": {
    "collapsed": true
   },
   "outputs": [],
   "source": []
  }
 ],
 "metadata": {
  "kernelspec": {
   "display_name": "Python 3",
   "language": "python",
   "name": "python3"
  },
  "language_info": {
   "codemirror_mode": {
    "name": "ipython",
    "version": 3
   },
   "file_extension": ".py",
   "mimetype": "text/x-python",
   "name": "python",
   "nbconvert_exporter": "python",
   "pygments_lexer": "ipython3",
   "version": "3.6.0"
  }
 },
 "nbformat": 4,
 "nbformat_minor": 2
}

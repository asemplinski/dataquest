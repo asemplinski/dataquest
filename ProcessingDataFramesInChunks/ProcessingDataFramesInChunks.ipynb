{
 "cells": [
  {
   "cell_type": "code",
   "execution_count": 1,
   "metadata": {
    "collapsed": false
   },
   "outputs": [],
   "source": [
    "import pandas as pd\n",
    "import matplotlib.pyplot as plt\n",
    "\n",
    "% matplotlib inline"
   ]
  },
  {
   "cell_type": "code",
   "execution_count": 43,
   "metadata": {
    "collapsed": true
   },
   "outputs": [],
   "source": [
    "memory_footprints = []"
   ]
  },
  {
   "cell_type": "code",
   "execution_count": 50,
   "metadata": {
    "collapsed": false
   },
   "outputs": [
    {
     "name": "stdout",
     "output_type": "stream",
     "text": [
      "<class 'pandas.core.frame.DataFrame'>\n",
      "RangeIndex: 34558 entries, 0 to 34557\n",
      "Data columns (total 27 columns):\n",
      "ExhibitionID              34129 non-null float64\n",
      "ExhibitionNumber          34558 non-null object\n",
      "ExhibitionTitle           34558 non-null object\n",
      "ExhibitionCitationDate    34557 non-null object\n",
      "ExhibitionBeginDate       34558 non-null object\n",
      "ExhibitionEndDate         33354 non-null object\n",
      "ExhibitionSortOrder       34558 non-null float64\n",
      "ExhibitionURL             34125 non-null object\n",
      "ExhibitionRole            34424 non-null object\n",
      "ConstituentID             34044 non-null float64\n",
      "ConstituentType           34424 non-null object\n",
      "DisplayName               34424 non-null object\n",
      "AlphaSort                 34424 non-null object\n",
      "FirstName                 31499 non-null object\n",
      "MiddleName                3804 non-null object\n",
      "LastName                  31998 non-null object\n",
      "Suffix                    157 non-null object\n",
      "Institution               2458 non-null object\n",
      "Nationality               26072 non-null object\n",
      "ConstituentBeginDate      25290 non-null float64\n",
      "ConstituentEndDate        19819 non-null float64\n",
      "ArtistBio                 26089 non-null object\n",
      "Gender                    25796 non-null object\n",
      "VIAFID                    26996 non-null float64\n",
      "WikidataID                22241 non-null object\n",
      "ULANID                    21688 non-null float64\n",
      "ConstituentURL            34044 non-null object\n",
      "dtypes: float64(7), object(20)\n",
      "memory usage: 7.1+ MB\n"
     ]
    }
   ],
   "source": [
    "moma = pd.read_csv('moma.csv')\n",
    "moma.info()"
   ]
  },
  {
   "cell_type": "code",
   "execution_count": 29,
   "metadata": {
    "collapsed": true
   },
   "outputs": [],
   "source": [
    "chunk_itr = pd.read_csv('moma.csv', chunksize=250)"
   ]
  },
  {
   "cell_type": "code",
   "execution_count": 30,
   "metadata": {
    "collapsed": false
   },
   "outputs": [
    {
     "data": {
      "text/plain": [
       "pandas.io.parsers.TextFileReader"
      ]
     },
     "execution_count": 30,
     "metadata": {},
     "output_type": "execute_result"
    }
   ],
   "source": [
    "type(chunk_itr)"
   ]
  },
  {
   "cell_type": "code",
   "execution_count": 44,
   "metadata": {
    "collapsed": false
   },
   "outputs": [],
   "source": [
    "chunk_itr = pd.read_csv('moma.csv', chunksize=250)\n",
    "for chunk in chunk_itr:\n",
    "    memory_footprints.append(chunk.memory_usage(deep=True).sum()/1048576)"
   ]
  },
  {
   "cell_type": "code",
   "execution_count": 45,
   "metadata": {
    "collapsed": false
   },
   "outputs": [
    {
     "data": {
      "text/plain": [
       "(array([  1.,   0.,   0.,   0.,   0.,   0.,   0.,   7.,  94.,  37.]),\n",
       " array([ 0.07383919,  0.1022049 ,  0.1305706 ,  0.15893631,  0.18730202,\n",
       "         0.21566772,  0.24403343,  0.27239914,  0.30076485,  0.32913055,\n",
       "         0.35749626]),\n",
       " <a list of 10 Patch objects>)"
      ]
     },
     "execution_count": 45,
     "metadata": {},
     "output_type": "execute_result"
    },
    {
     "data": {
      "image/png": "[encoded data removed]",
      "text/plain": [
       "<matplotlib.figure.Figure at 0x7fd49ad03438>"
      ]
     },
     "metadata": {},
     "output_type": "display_data"
    }
   ],
   "source": [
    "plt.hist(memory_footprints)"
   ]
  },
  {
   "cell_type": "code",
   "execution_count": null,
   "metadata": {
    "collapsed": true
   },
   "outputs": [],
   "source": []
  },
  {
   "cell_type": "code",
   "execution_count": 47,
   "metadata": {
    "collapsed": false
   },
   "outputs": [],
   "source": [
    "num_rows = 0\n",
    "chunk_itr = pd.read_csv('moma.csv', chunksize=250)\n",
    "for chunk in chunk_itr:\n",
    "    num_rows += len(chunk)"
   ]
  },
  {
   "cell_type": "code",
   "execution_count": 48,
   "metadata": {
    "collapsed": false
   },
   "outputs": [
    {
     "data": {
      "text/plain": [
       "34558"
      ]
     },
     "execution_count": 48,
     "metadata": {},
     "output_type": "execute_result"
    }
   ],
   "source": [
    "num_rows"
   ]
  },
  {
   "cell_type": "code",
   "execution_count": 79,
   "metadata": {
    "collapsed": false
   },
   "outputs": [],
   "source": [
    "life_spans = []\n",
    "dtypes = {'ConstituentBeginDate':'float',\n",
    "         'ConstituentEndDate':'float'}\n",
    "moma_itr = pd.read_csv('moma.csv', chunksize=250, dtype=dtypes)\n",
    "for chunk in moma_itr:\n",
    "    span = chunk['ConstituentEndDate'] - chunk['ConstituentBeginDate']\n",
    "    life_spans.append(span)\n",
    "lifespans_dist = pd.concat(life_spans)"
   ]
  },
  {
   "cell_type": "code",
   "execution_count": 80,
   "metadata": {
    "collapsed": false,
    "scrolled": true
   },
   "outputs": [
    {
     "data": {
      "text/plain": [
       "0        79.0\n",
       "1        67.0\n",
       "2        55.0\n",
       "3        37.0\n",
       "4        32.0\n",
       "5        74.0\n",
       "6        52.0\n",
       "7        41.0\n",
       "8        85.0\n",
       "9        65.0\n",
       "10       85.0\n",
       "11       66.0\n",
       "12       89.0\n",
       "13       72.0\n",
       "14       64.0\n",
       "15       66.0\n",
       "16       83.0\n",
       "17       76.0\n",
       "18       99.0\n",
       "19       45.0\n",
       "20       80.0\n",
       "21       79.0\n",
       "22       80.0\n",
       "23       80.0\n",
       "24       80.0\n",
       "25       81.0\n",
       "26       98.0\n",
       "27       90.0\n",
       "28       56.0\n",
       "29       74.0\n",
       "         ... \n",
       "34528    44.0\n",
       "34529    89.0\n",
       "34530    87.0\n",
       "34531    37.0\n",
       "34532    88.0\n",
       "34533    80.0\n",
       "34534     NaN\n",
       "34535     NaN\n",
       "34536    80.0\n",
       "34537    77.0\n",
       "34538     NaN\n",
       "34539     NaN\n",
       "34540    82.0\n",
       "34541     NaN\n",
       "34542     NaN\n",
       "34543     NaN\n",
       "34544     NaN\n",
       "34545     NaN\n",
       "34546     NaN\n",
       "34547     NaN\n",
       "34548     NaN\n",
       "34549    72.0\n",
       "34550     NaN\n",
       "34551     NaN\n",
       "34552     NaN\n",
       "34553     NaN\n",
       "34554     NaN\n",
       "34555     NaN\n",
       "34556     NaN\n",
       "34557     NaN\n",
       "dtype: float64"
      ]
     },
     "execution_count": 80,
     "metadata": {},
     "output_type": "execute_result"
    }
   ],
   "source": [
    "lifespans_dist"
   ]
  },
  {
   "cell_type": "code",
   "execution_count": 69,
   "metadata": {
    "collapsed": false
   },
   "outputs": [
    {
     "data": {
      "text/plain": [
       "{'ConstituentBeginDate': 'float', 'ConstituentEndDate': 'float'}"
      ]
     },
     "execution_count": 69,
     "metadata": {},
     "output_type": "execute_result"
    }
   ],
   "source": []
  },
  {
   "cell_type": "code",
   "execution_count": null,
   "metadata": {
    "collapsed": true
   },
   "outputs": [],
   "source": []
  },
  {
   "cell_type": "code",
   "execution_count": 86,
   "metadata": {
    "collapsed": false
   },
   "outputs": [],
   "source": [
    "overall_vc = []\n",
    "chunk_iter = pd.read_csv(\"moma.csv\", chunksize=250, usecols=['Gender'])\n",
    "for chunk in chunk_iter:\n",
    "    overall_vc.append(chunk['Gender'].value_counts())"
   ]
  },
  {
   "cell_type": "code",
   "execution_count": 88,
   "metadata": {
    "collapsed": false
   },
   "outputs": [],
   "source": [
    "#pd.concat(overall_vc)"
   ]
  },
  {
   "cell_type": "code",
   "execution_count": 101,
   "metadata": {
    "collapsed": false
   },
   "outputs": [],
   "source": [
    "overall_vc = []\n",
    "chunk_iter = pd.read_csv(\"moma.csv\", chunksize=250, usecols=['Gender'])\n",
    "for chunk in chunk_iter:\n",
    "    overall_vc.append(chunk['Gender'].value_counts())\n",
    "combined_vc = pd.concat(overall_vc)\n",
    "\n",
    "final_vc  = combined_vc.groupby(combined_vc.index).sum()\n",
    "\n",
    "    "
   ]
  },
  {
   "cell_type": "code",
   "execution_count": 102,
   "metadata": {
    "collapsed": false
   },
   "outputs": [
    {
     "data": {
      "text/plain": [
       "Female     2527\n",
       "Male      23268\n",
       "male          1\n",
       "Name: Gender, dtype: int64"
      ]
     },
     "execution_count": 102,
     "metadata": {},
     "output_type": "execute_result"
    }
   ],
   "source": [
    "final_vc"
   ]
  },
  {
   "cell_type": "code",
   "execution_count": 22,
   "metadata": {
    "collapsed": false
   },
   "outputs": [],
   "source": [
    "moma_itr = pd.read_csv('moma.csv', usecols=['Gender', 'ExhibitionID'], chunksize=100)\n",
    "list_of_gender_counts=[]\n",
    "for chunk in moma_itr:\n",
    "    list_of_gender_counts.append(chunk['Gender'].groupby(chunk['ExhibitionID']).value_counts())\n",
    "combined_gender  = pd.concat(list_of_gender_counts)\n",
    "\n",
    "id_gender_counts = combined_gender.groupby(combined_gender.index).sum()\n",
    "    "
   ]
  },
  {
   "cell_type": "code",
   "execution_count": 20,
   "metadata": {
    "collapsed": false
   },
   "outputs": [
    {
     "data": {
      "text/plain": [
       "(2.0, Male)            1\n",
       "(5.0, Male)            3\n",
       "(6.0, Female)          2\n",
       "(6.0, Male)           32\n",
       "(7.0, Male)           69\n",
       "(9.0, Male)            4\n",
       "(10.0, Male)           2\n",
       "(15.0, Male)           1\n",
       "(17.0, Male)           4\n",
       "(19.0, Male)           2\n",
       "(25.0, Male)           3\n",
       "(26.0, Male)           3\n",
       "(29.0, Male)           2\n",
       "(33.0, Male)           5\n",
       "(35.0, Male)           5\n",
       "(79.0, Female)        18\n",
       "(79.0, Male)         120\n",
       "(80.0, Female)         7\n",
       "(80.0, Male)          36\n",
       "(84.0, Male)           2\n",
       "(85.0, Male)           5\n",
       "(89.0, Male)           1\n",
       "(90.0, Male)           2\n",
       "(92.0, Male)           8\n",
       "(94.0, Male)          12\n",
       "(102.0, Female)        1\n",
       "(102.0, Male)          4\n",
       "(103.0, Male)          3\n",
       "(107.0, Male)          2\n",
       "(114.0, Male)          1\n",
       "                    ... \n",
       "(10550.0, Male)       24\n",
       "(10551.0, Female)      6\n",
       "(10551.0, Male)       28\n",
       "(10552.0, Female)      4\n",
       "(10552.0, Male)       21\n",
       "(10553.0, Female)      3\n",
       "(10553.0, Male)       35\n",
       "(10554.0, Female)      4\n",
       "(10554.0, Male)       18\n",
       "(10555.0, Female)      3\n",
       "(10555.0, Male)       21\n",
       "(10556.0, Female)      3\n",
       "(10556.0, Male)       29\n",
       "(10557.0, Female)      1\n",
       "(10557.0, Male)       15\n",
       "(10558.0, Female)      3\n",
       "(10558.0, Male)       20\n",
       "(10559.0, Female)      3\n",
       "(10559.0, Male)       11\n",
       "(10574.0, Male)        1\n",
       "(10600.0, Male)        1\n",
       "(10601.0, Female)     23\n",
       "(10601.0, Male)      177\n",
       "(10684.0, Female)      3\n",
       "(10684.0, Male)       10\n",
       "(10799.0, Female)      8\n",
       "(10799.0, Male)       21\n",
       "(10800.0, Female)      2\n",
       "(10800.0, Male)        7\n",
       "(11267.0, Male)        1\n",
       "Name: Gender, dtype: int64"
      ]
     },
     "execution_count": 20,
     "metadata": {},
     "output_type": "execute_result"
    }
   ],
   "source": []
  },
  {
   "cell_type": "code",
   "execution_count": null,
   "metadata": {
    "collapsed": true
   },
   "outputs": [],
   "source": []
  },
  {
   "cell_type": "code",
   "execution_count": null,
   "metadata": {
    "collapsed": true
   },
   "outputs": [],
   "source": []
  },
  {
   "cell_type": "code",
   "execution_count": null,
   "metadata": {
    "collapsed": true
   },
   "outputs": [],
   "source": []
  },
  {
   "cell_type": "code",
   "execution_count": null,
   "metadata": {
    "collapsed": true
   },
   "outputs": [],
   "source": []
  },
  {
   "cell_type": "code",
   "execution_count": null,
   "metadata": {
    "collapsed": true
   },
   "outputs": [],
   "source": []
  },
  {
   "cell_type": "code",
   "execution_count": null,
   "metadata": {
    "collapsed": true
   },
   "outputs": [],
   "source": []
  },
  {
   "cell_type": "code",
   "execution_count": null,
   "metadata": {
    "collapsed": true
   },
   "outputs": [],
   "source": []
  }
 ],
 "metadata": {
  "kernelspec": {
   "display_name": "Python 3",
   "language": "python",
   "name": "python3"
  },
  "language_info": {
   "codemirror_mode": {
    "name": "ipython",
    "version": 3
   },
   "file_extension": ".py",
   "mimetype": "text/x-python",
   "name": "python",
   "nbconvert_exporter": "python",
   "pygments_lexer": "ipython3",
   "version": "3.6.0"
  }
 },
 "nbformat": 4,
 "nbformat_minor": 2
}

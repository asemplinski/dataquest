{
 "cells": [
  {
   "cell_type": "code",
   "execution_count": 1,
   "metadata": {
    "collapsed": false
   },
   "outputs": [],
   "source": [
    "import csv\n",
    "import psycopg2\n",
    "\n",
    "\n"
   ]
  },
  {
   "cell_type": "code",
   "execution_count": 12,
   "metadata": {
    "collapsed": false
   },
   "outputs": [],
   "source": [
    "\n",
    "conn = psycopg2.connect(\"dbname=dq user=dq password=dq\")\n",
    "\n",
    "cur=conn.cursor()\n",
    "\n",
    "with open('user_accounts.csv','r') as f:\n",
    "    count=0\n",
    "    reader = csv.reader(f)\n",
    "    for line in reader:\n",
    "        if count ==0:\n",
    "            count += 1\n",
    "            continue\n",
    "        else:\n",
    "            cur.execute(\"INSERT INTO users VALUES (%s, %s, %s, %s)\",(line[0], line[1],line[2], line[3]))\n",
    "            \n",
    "conn.commit()\n",
    "\n",
    "cur.execute(\"SELECT * FROM users\")\n",
    "users=cur.fetchall()\n",
    "conn.close()"
   ]
  },
  {
   "cell_type": "raw",
   "metadata": {
    "collapsed": false
   },
   "source": []
  },
  {
   "cell_type": "code",
   "execution_count": 2,
   "metadata": {
    "collapsed": false
   },
   "outputs": [],
   "source": [
    "\n",
    "with open('ign.csv', 'r') as f:\n",
    "    next(f)\n",
    "    reader = csv.reader(f)\n",
    "    unique_words_in_score_phrase = set([\n",
    "        row[1] for row in reader])\n",
    "max_score = max(unique_words_in_score_phrase)    \n"
   ]
  },
  {
   "cell_type": "code",
   "execution_count": 3,
   "metadata": {
    "collapsed": false
   },
   "outputs": [
    {
     "name": "stdout",
     "output_type": "stream",
     "text": [
      "Unbearable\n"
     ]
    }
   ],
   "source": [
    "print(max_score)"
   ]
  },
  {
   "cell_type": "code",
   "execution_count": 4,
   "metadata": {
    "collapsed": false
   },
   "outputs": [
    {
     "name": "stdout",
     "output_type": "stream",
     "text": [
      "{'Okay', 'Mediocre', 'Disaster', 'Masterpiece', 'Amazing', 'Unbearable', 'Good', 'Bad', 'Great', 'Painful', 'Awful'}\n"
     ]
    }
   ],
   "source": [
    "print(unique_words_in_score_phrase)"
   ]
  },
  {
   "cell_type": "code",
   "execution_count": 7,
   "metadata": {
    "collapsed": false
   },
   "outputs": [
    {
     "data": {
      "text/plain": [
       "'Masterpiece'"
      ]
     },
     "execution_count": 7,
     "metadata": {},
     "output_type": "execute_result"
    }
   ],
   "source": [
    "max(unique_words_in_score_phrase, key=len)"
   ]
  },
  {
   "cell_type": "code",
   "execution_count": null,
   "metadata": {
    "collapsed": true
   },
   "outputs": [],
   "source": []
  }
 ],
 "metadata": {
  "kernelspec": {
   "display_name": "Python 3",
   "language": "python",
   "name": "python3"
  },
  "language_info": {
   "codemirror_mode": {
    "name": "ipython",
    "version": 3
   },
   "file_extension": ".py",
   "mimetype": "text/x-python",
   "name": "python",
   "nbconvert_exporter": "python",
   "pygments_lexer": "ipython3",
   "version": "3.6.0"
  }
 },
 "nbformat": 4,
 "nbformat_minor": 2
}
